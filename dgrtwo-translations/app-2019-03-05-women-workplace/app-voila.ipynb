{
 "cells": [
  {
   "cell_type": "markdown",
   "metadata": {},
   "source": [
    "Running:\n",
    "\n",
    "```bash\n",
    "voila app-voila.ipynb\n",
    "```\n",
    "\n",
    "Resources:\n",
    "\n",
    "* [introduction to ipywidgets interact](https://ipywidgets.readthedocs.io/en/latest/examples/Using%20Interact.html)\n",
    "* [Widgets that depend on each other](https://ipywidgets.readthedocs.io/en/latest/examples/Using%20Interact.html#Arguments-that-are-dependent-on-each-other)\n",
    "* [voila github repo](https://github.com/voila-dashboards/voila)\n"
   ]
  },
  {
   "cell_type": "code",
   "execution_count": 15,
   "metadata": {},
   "outputs": [],
   "source": [
    "import ipywidgets as widgets\n",
    "from ipywidgets import interact\n",
    "from plotnine import *\n",
    "\n",
    "from siuba import _, filter, summarize\n",
    "from siuba.data import mtcars\n",
    "\n"
   ]
  },
  {
   "cell_type": "code",
   "execution_count": 13,
   "metadata": {},
   "outputs": [
    {
     "data": {
      "image/png": "[encoded data removed]",
      "text/plain": [
       "<Figure size 640x480 with 1 Axes>"
      ]
     },
     "metadata": {},
     "output_type": "display_data"
    },
    {
     "data": {
      "text/plain": [
       "<ggplot: (312864183)>"
      ]
     },
     "execution_count": 13,
     "metadata": {},
     "output_type": "execute_result"
    }
   ],
   "source": [
    "p = (\n",
    "    mtcars\n",
    "    >> filter(_.cyl == 4)\n",
    "    >> ggplot(aes(\"hp\", \"mpg\"))\n",
    "    + geom_point()\n",
    "    + ggtitle(\"Hp vs Mpg for cyl = %s\" % 4)\n",
    ")\n",
    "\n",
    "p"
   ]
  },
  {
   "cell_type": "code",
   "execution_count": 16,
   "metadata": {},
   "outputs": [
    {
     "data": {
      "application/vnd.jupyter.widget-view+json": {
       "model_id": "426e3c880d53483491e2acf1db22cf22",
       "version_major": 2,
       "version_minor": 0
      },
      "text/plain": [
       "interactive(children=(Dropdown(description='val_cyl', options=(4, 6, 8), value=4), Output()), _dom_classes=('w…"
      ]
     },
     "metadata": {},
     "output_type": "display_data"
    }
   ],
   "source": [
    "\n",
    "w = widgets.Dropdown(options=[4, 6, 8], value=4)\n",
    "\n",
    "@interact(val_cyl=w)\n",
    "def f(val_cyl):\n",
    "    from plotly import tools\n",
    "    p = (\n",
    "        mtcars\n",
    "        >> filter(_.cyl == val_cyl)\n",
    "        >> ggplot(aes(\"hp\", \"mpg\"))\n",
    "        + geom_point()\n",
    "        + ggtitle(\"Hp vs Mpg for cyl = %s\" % val_cyl)\n",
    "    )\n",
    "    \n",
    "    #return p\n",
    "    return tools.mpl_to_plotly(p.draw())"
   ]
  }
 ],
 "metadata": {
  "kernelspec": {
   "display_name": "Python 3",
   "language": "python",
   "name": "python3"
  },
  "language_info": {
   "codemirror_mode": {
    "name": "ipython",
    "version": 3
   },
   "file_extension": ".py",
   "mimetype": "text/x-python",
   "name": "python",
   "nbconvert_exporter": "python",
   "pygments_lexer": "ipython3",
   "version": "3.6.8"
  }
 },
 "nbformat": 4,
 "nbformat_minor": 4
}
