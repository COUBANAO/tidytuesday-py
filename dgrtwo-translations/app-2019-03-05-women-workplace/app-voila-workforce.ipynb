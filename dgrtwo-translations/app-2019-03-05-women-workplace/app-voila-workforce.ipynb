{
 "cells": [
  {
   "cell_type": "markdown",
   "metadata": {},
   "source": [
    "# Voila dashboard demo\n",
    "\n",
    "Running:\n",
    "\n",
    "```bash\n",
    "voila app-voila.ipynb\n",
    "```\n",
    "\n",
    "Resources:\n",
    "\n",
    "* [introduction to ipywidgets interact](https://ipywidgets.readthedocs.io/en/latest/examples/Using%20Interact.html)\n",
    "* [Widgets that depend on each other](https://ipywidgets.readthedocs.io/en/latest/examples/Using%20Interact.html#Arguments-that-are-dependent-on-each-other)\n",
    "* [voila github repo](https://github.com/voila-dashboards/voila)\n"
   ]
  },
  {
   "cell_type": "code",
   "execution_count": 1,
   "metadata": {},
   "outputs": [],
   "source": [
    "import ipywidgets as widgets\n",
    "from ipywidgets import interact\n",
    "from plotnine import *\n",
    "\n",
    "from siuba import _, filter, summarize, mutate\n",
    "from siuba.data import mtcars\n",
    "import pandas as pd\n",
    "from plotly import tools\n",
    "\n",
    "import warnings\n",
    "warnings.filterwarnings(\"ignore\")\n",
    "\n",
    "jobs_gender = pd.read_csv(\"https://raw.githubusercontent.com/rfordatascience/tidytuesday/master/data/2019/2019-03-05/jobs_gender.csv\")\n"
   ]
  },
  {
   "cell_type": "code",
   "execution_count": 2,
   "metadata": {},
   "outputs": [],
   "source": [
    "def plot_pay_gap_2016(jobs_gender, major_category):\n",
    "    return (\n",
    "        jobs_gender\n",
    "        >> filter(_.year == 2016, _.total_workers >= 20000)\n",
    "        >> filter(_.major_category == major_category)\n",
    "        #     >> arrange(desc(wage_percent_of_male))\n",
    "        >> mutate(\n",
    "            percent_female=_.workers_female / _.total_workers,\n",
    "            wage_percent_female=_.total_earnings_female / _.total_earnings_male,\n",
    "        )\n",
    "        >> ggplot(\n",
    "            aes(\n",
    "                \"percent_female\",\n",
    "                \"wage_percent_female\",\n",
    "                color=\"minor_category\",\n",
    "                size=\"total_workers\",\n",
    "                label=\"occupation\",\n",
    "            )\n",
    "        )\n",
    "        + geom_point()\n",
    "        + scale_size_continuous(range=[1, 10], guide=False)\n",
    "        + labs(\n",
    "            x=\"% of workforce reported as female\",\n",
    "            y=\"% of median female salary / median male\",\n",
    "            title=\"Gender disparity and pay gap in 2016\",\n",
    "            subtitle=\"Only occupations with at least 20,000 workers total\",\n",
    "            color=\"Minor category\",\n",
    "        )\n",
    "        #        scale_x_continuous(labels = percent_format()) +\n",
    "        #        scale_y_continuous(labels = percent_format())\n",
    "    )\n",
    "\n",
    "# p = plot_pay_gap_2016(jobs_gender, \"Management, Business, and Financial\")\n",
    "# tools.mpl_to_plotly(p.draw())"
   ]
  },
  {
   "cell_type": "code",
   "execution_count": 5,
   "metadata": {},
   "outputs": [
    {
     "data": {
      "application/vnd.jupyter.widget-view+json": {
       "model_id": "39f5ab7d32d6413a8e9733f5ecb4eb96",
       "version_major": 2,
       "version_minor": 0
      },
      "text/plain": [
       "interactive(children=(Dropdown(description='major_category', options=('Management, Business, and Financial', '…"
      ]
     },
     "metadata": {},
     "output_type": "display_data"
    }
   ],
   "source": [
    "w = widgets.Dropdown(options=jobs_gender.major_category.unique(), value=None)\n",
    "\n",
    "w2 = widgets.Dropdown(options=[], value=None)\n",
    "\n",
    "def update_minor_options(*args):\n",
    "    print('updating')\n",
    "    w2.options = jobs_gender \\\n",
    "        .loc[lambda d: d.major_category == w.value, 'minor_category'] \\\n",
    "        .unique()\n",
    "\n",
    "w.observe(update_minor_options, 'value')\n",
    "\n",
    "@interact(major_category=w, minor_category = w2)\n",
    "def f(major_category, minor_category):\n",
    "    filtered_jobs = filter(\n",
    "        jobs_gender,\n",
    "        _.major_category == major_category,\n",
    "        _.minor_category == minor_category\n",
    "    )\n",
    "    \n",
    "    p = plot_pay_gap_2016(filtered_jobs, major_category)\n",
    "    return tools.mpl_to_plotly(p.draw())\n"
   ]
  }
 ],
 "metadata": {
  "kernelspec": {
   "display_name": "Python 3",
   "language": "python",
   "name": "python3"
  },
  "language_info": {
   "codemirror_mode": {
    "name": "ipython",
    "version": 3
   },
   "file_extension": ".py",
   "mimetype": "text/x-python",
   "name": "python",
   "nbconvert_exporter": "python",
   "pygments_lexer": "ipython3",
   "version": "3.6.8"
  }
 },
 "nbformat": 4,
 "nbformat_minor": 4
}
