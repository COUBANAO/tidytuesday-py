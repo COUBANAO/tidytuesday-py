{
 "cells": [
  {
   "cell_type": "code",
   "execution_count": 1,
   "metadata": {},
   "outputs": [],
   "source": [
    "import pandas as pd\n",
    "import numpy as np\n",
    "\n",
    "from qgrid import show_grid\n",
    "\n",
    "from siuba import *\n",
    "from plotnine import *"
   ]
  },
  {
   "cell_type": "code",
   "execution_count": 2,
   "metadata": {},
   "outputs": [],
   "source": [
    "major_fields_raw = pd.read_excel(\n",
    "    \"./data/sed17-sr-tab012.xlsx\",\n",
    "    skiprows = 3\n",
    ")\n"
   ]
  },
  {
   "cell_type": "markdown",
   "metadata": {},
   "source": [
    "## Preprocessing"
   ]
  },
  {
   "cell_type": "code",
   "execution_count": 3,
   "metadata": {
    "pytabs": {
     "class": "pytabs-3",
     "name": "pandas"
    }
   },
   "outputs": [
    {
     "ename": "NameError",
     "evalue": "name 'major_fields' is not defined",
     "output_type": "error",
     "traceback": [
      "\u001b[0;31m---------------------------------------------------------------------------\u001b[0m",
      "\u001b[0;31mNameError\u001b[0m                                 Traceback (most recent call last)",
      "\u001b[0;32m<ipython-input-3-8ba6a7493df1>\u001b[0m in \u001b[0;36m<module>\u001b[0;34m\u001b[0m\n\u001b[1;32m     24\u001b[0m )\n\u001b[1;32m     25\u001b[0m \u001b[0;34m\u001b[0m\u001b[0m\n\u001b[0;32m---> 26\u001b[0;31m \u001b[0mmajor_fields\u001b[0m\u001b[0;34m\u001b[0m\u001b[0;34m\u001b[0m\u001b[0m\n\u001b[0m",
      "\u001b[0;31mNameError\u001b[0m: name 'major_fields' is not defined"
     ]
    }
   ],
   "source": [
    "renamed = major_fields_raw.rename(columns = {\"Field of study\": \"field\"})\n",
    "\n",
    "melted_majors = renamed.melt(id_vars = \"field\", var_name = \"key\")\n",
    "\n",
    "major_fields = (\n",
    "    melted_majors\n",
    "    .assign(\n",
    "        # note: Series.where replaces values when condition is false or nan\n",
    "        #       e.g. Series.where(condition, to_replace_if_false_or_nan)\n",
    "        year= _.key.replace(\"Unnamed\", np.nan, regex = True),\n",
    "        type=_.value.where(_.value.str.contains(\"Number|Percent\"), np.nan),\n",
    "        value=lambda d: pd.to_numeric(d.value, \"coerce\")\n",
    "    )\n",
    "    .assign(year=_.year.ffill(), type=_.type.ffill())\n",
    "    .drop(columns = \"key\")\n",
    "    .loc[_.value.notna()]\n",
    "    # this is spread(_.type, _.value) in pandas --------\n",
    "    # unstack to row-index: field, type. multi-column-index: value[Number, Percent]\n",
    "    .pipe(_.set_index([\"field\", \"year\", \"type\"]).unstack(level = -1))\n",
    "    # get rid of multi-column-index\n",
    "    .pipe(_.reset_index(col_level = 1).droplevel(None, axis = 1))\n",
    "    # make it so our columns don't have a \"name\"\n",
    "    .pipe(_.rename_axis(columns = None))\n",
    ")\n",
    "\n",
    "major_fields"
   ]
  },
  {
   "cell_type": "code",
   "execution_count": null,
   "metadata": {
    "pytabs": {
     "class": "pytabs-4",
     "name": "pandas"
    }
   },
   "outputs": [],
   "source": [
    "fine_fields = (\n",
    "    pd.read_excel(\"./data/sed17-sr-tab013.xlsx\", skiprows=3)\n",
    "    .rename(columns = {\"Fine field of study\": \"field\"})\n",
    "    .melt(id_vars = \"field\", var_name = \"year\", value_name = \"number\")\n",
    "    # warning: can't index like below if our index has nans\n",
    "    .loc[_.number != 'na']\n",
    "    .assign(\n",
    "        field = _.field.str.strip(),\n",
    "        year = _.year.astype(float), \n",
    "        number = _.number.astype(float)        \n",
    "    )\n",
    ")\n",
    "\n",
    "fine_fields"
   ]
  },
  {
   "cell_type": "markdown",
   "metadata": {},
   "source": [
    "## Plotting degrees over time for 6 degrees"
   ]
  },
  {
   "cell_type": "code",
   "execution_count": null,
   "metadata": {},
   "outputs": [],
   "source": [
    "# investigated why a space was there\n",
    "ceramics = fine_fields >> filter(_.field.str.startswith(\"Ceramic\"))\n",
    "ceramics.values[0]\n",
    "\n"
   ]
  },
  {
   "cell_type": "code",
   "execution_count": null,
   "metadata": {
    "pytabs": {
     "class": "pytabs-5",
     "name": "pandas"
    }
   },
   "outputs": [],
   "source": [
    "from random import sample\n",
    "\n",
    "#field_subset = sample(list(fine_fields.field.unique()), 6)\n",
    "\n",
    "field_subset = ['Marine biology and biological oceanography',\n",
    " 'Educational and instructional technology',\n",
    " 'Astronomy and astrophysics',\n",
    " 'Organizational behavior',\n",
    " 'Literacy and reading educationm',\n",
    " 'Ceramic sciences engineering']\n",
    "\n",
    "(\n",
    "    fine_fields\n",
    "    .loc[_.field.isin(field_subset)]\n",
    "    >> ggplot(aes(\"year\", \"number\", color=\"field\"))\n",
    "     + geom_line()\n",
    ")"
   ]
  },
  {
   "cell_type": "code",
   "execution_count": null,
   "metadata": {
    "pytabs": {
     "class": "pytabs-6",
     "name": "pandas"
    }
   },
   "outputs": [],
   "source": [
    "broad_fields_raw = pd.read_excel(\"./data/sed17-sr-tab014.xlsx\", skiprows=4)\n",
    "\n",
    "sex = [\"All\", \"Male\", \"Female\", \"All doctorate recipientsa\", \"All fieldsa\"]\n",
    "\n",
    "\n",
    "broad_fields_formatted = (\n",
    "    broad_fields_raw\n",
    "    .rename(columns = {\"Unnamed: 0\": \"field\"})\n",
    "    .loc[~_.field.isin(sex)]\n",
    "    .assign(\n",
    "        field=_.field.rename({\n",
    "            \"Life sciencesb\": \"Life sciences\",\n",
    "            \"Otherc\": \"Other\"\n",
    "        })\n",
    "    )\n",
    ")\n",
    "\n",
    "broad_fields = broad_fields_formatted.field\n",
    "\n",
    "broad_fields"
   ]
  },
  {
   "cell_type": "code",
   "execution_count": null,
   "metadata": {
    "pytabs": {
     "class": "pytabs-7",
     "name": "pandas"
    }
   },
   "outputs": [],
   "source": [
    "recipients_year_field_sex_raw = pd.read_excel(\"./data/sed17-sr-tab015.xlsx\", skiprows=3)\n",
    "recipients_year_field_sex_raw.columns = recipients_year_field_sex_raw.columns.map(str)\n",
    "\n",
    "\n",
    "recipients_year_field_sex = (\n",
    "    recipients_year_field_sex_raw\n",
    "    .rename(columns = {\"Sex and major field of study\": \"field\"})\n",
    "    .loc[:,~_.columns.str.contains(\"change\")]\n",
    "    .assign(\n",
    "        field=_.field.replace({\n",
    "            \"All doctorate recipientsa\": \"All\",\n",
    "            \"Otherb\": \"Other\"\n",
    "            }),\n",
    "        sex=_.field.where(_.field.isin([\"Male\", \"Female\", \"All\"])),\n",
    "        broad_field= _.field.where(_.field.isin(broad_fields))\n",
    "    )\n",
    "    .assign(sex = _.sex.ffill(), broad_field = _.broad_field.ffill())\n",
    "    .melt(id_vars = [\"sex\", \"broad_field\", \"field\"], var_name = \"year\", value_name = \"number\")\n",
    "    .loc[(~_.field.isin(sex)) & _.number.notna()]\n",
    "    .assign(year = _.year.astype(int))\n",
    ")\n",
    "\n",
    "recipients_year_field_sex"
   ]
  },
  {
   "cell_type": "code",
   "execution_count": null,
   "metadata": {
    "pytabs": {
     "class": "pytabs-8",
     "name": "pandas"
    }
   },
   "outputs": [],
   "source": [
    "(\n",
    "    recipients_year_field_sex\n",
    "    >> filter(_.sex != \"All\", _.broad_field == \"Mathematics and computer sciences\")\n",
    "    >> ggplot(aes(\"year\", \"number\", color=\"sex\"))\n",
    "    + geom_line()\n",
    "    + expand_limits(y=0)\n",
    "    + facet_wrap(\"~ field\")\n",
    ")"
   ]
  },
  {
   "cell_type": "code",
   "execution_count": null,
   "metadata": {},
   "outputs": [],
   "source": [
    "from siuba.dply.forcats import fct_reorder\n",
    "\n",
    "\n",
    "example = (    recipients_year_field_sex\n",
    "    >> spread(_.sex, _.number)\n",
    "    >> mutate(pct_male=_.Male / _.All)\n",
    "    >> filter(_.broad_field == \"Engineering\")\n",
    ")\n",
    "\n",
    "fct_reorder(example.field, -example.pct_male)"
   ]
  },
  {
   "cell_type": "code",
   "execution_count": null,
   "metadata": {
    "pytabs": {
     "class": "pytabs-9",
     "name": "pandas"
    }
   },
   "outputs": [],
   "source": [
    "(\n",
    "    recipients_year_field_sex\n",
    "    # this is spread(_.type, _.value) in pandas --------\n",
    "    # unstack to row-index: field, type. multi-column-index: value[Number, Percent]\n",
    "    .pipe(_.set_index([\"broad_field\", \"field\", \"year\", \"sex\"]).unstack(level = -1))\n",
    "    # get rid of multi-column-index\n",
    "    .pipe(_.reset_index(col_level = 1).droplevel(None, axis = 1))\n",
    "    # make it so our columns don't have a \"name\"\n",
    "    .pipe(_.rename_axis(columns = None))\n",
    "    # rest of pipe ----\n",
    "    .assign(pct_male=_.Male / _.All)\n",
    "    .loc[_.broad_field == \"Engineering\"]\n",
    "    .assign(field = fct_reorder(_.field, -_.pct_male))\n",
    "    >> ggplot(aes(\"year\", \"pct_male\", color=\"field\"))\n",
    "    + geom_line()\n",
    "    + scale_y_continuous(labels=lambda l: [\"{:.0f}%\".format(v * 100) for v in l])\n",
    "    + labs(\n",
    "        x=\"Year\",\n",
    "        y=\"% of PhD recipients reporting as male\",\n",
    "        color=\"Major field\",\n",
    "        title=\"Breakdown by sex over time within Engineering major fields\",\n",
    "    )\n",
    ")"
   ]
  },
  {
   "cell_type": "code",
   "execution_count": null,
   "metadata": {},
   "outputs": [],
   "source": [
    "(\n",
    "    recipients_year_field_sex\n",
    "    >> spread(_.sex, _.number)\n",
    "    >> mutate(pct_male=_.Male / _.All)\n",
    "    >> filter(_.broad_field == \"Humanities and arts\")\n",
    "    >> mutate(field = fct_reorder(_.field, -_.pct_male))\n",
    "    >> ggplot(aes(\"year\", \"pct_male\", color=\"field\"))\n",
    "    + geom_line()\n",
    "    + scale_y_continuous(labels=lambda l: [\"{:.0f}%\".format(v * 100) for v in l])\n",
    "    + labs(\n",
    "        x=\"Year\",\n",
    "        y=\"% of PhD recipients reporting as male\",\n",
    "        color=\"Major field\",\n",
    "        title=\"Breakdown by sex over time within Humanities & Arts major fields\",\n",
    "    )\n",
    ")"
   ]
  },
  {
   "cell_type": "code",
   "execution_count": null,
   "metadata": {},
   "outputs": [],
   "source": [
    "(\n",
    "    recipients_year_field_sex\n",
    "    >> spread(_.sex, _.number)\n",
    "    >> mutate(pct_male=_.Male / _.All)\n",
    "    >> filter(_.broad_field == \"Education\")\n",
    "    >> mutate(field = fct_reorder(_.field, -_.pct_male))\n",
    "    >> ggplot(aes(\"year\", \"pct_male\", color=\"field\"))\n",
    "    + geom_line()\n",
    "    + scale_y_continuous(labels=lambda l: [\"{:.0f}%\".format(v * 100) for v in l])\n",
    "    + labs(\n",
    "        x=\"Year\",\n",
    "        y=\"% of PhD recipients reporting as male\",\n",
    "        color=\"Major field\",\n",
    "        title=\"Breakdown by sex over time within Education major fields\",\n",
    "    )\n",
    ")"
   ]
  }
 ],
 "metadata": {
  "kernelspec": {
   "display_name": "Python 3",
   "language": "python",
   "name": "python3"
  },
  "language_info": {
   "codemirror_mode": {
    "name": "ipython",
    "version": 3
   },
   "file_extension": ".py",
   "mimetype": "text/x-python",
   "name": "python",
   "nbconvert_exporter": "python",
   "pygments_lexer": "ipython3",
   "version": "3.6.8"
  }
 },
 "nbformat": 4,
 "nbformat_minor": 4
}
